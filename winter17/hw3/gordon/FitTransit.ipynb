{
 "cells": [
  {
   "cell_type": "code",
   "execution_count": null,
   "metadata": {
    "collapsed": false
   },
   "outputs": [],
   "source": [
    "include(\"./Transit.jl\")\n",
    "include(\"../bls.jl\")\n",
    "using Transit\n",
    "using PyPlot\n",
    "using DataFrames\n",
    "using LsqFit"
   ]
  },
  {
   "cell_type": "code",
   "execution_count": null,
   "metadata": {
    "collapsed": false
   },
   "outputs": [],
   "source": [
    "# get the radial velocity data\n",
    "\n",
    "transit_data = readdlm(\"../mysteryplanet2.txt\");\n",
    "#t = transit_data[1];\n",
    "#flux = transit_data[2];\n",
    "t = transit_data[:,1]\n",
    "flux = transit_data[:,2]\n",
    "\n",
    "n = length(t)\n",
    "dt = t[2] - t[1]\n",
    "t_tot = maximum(t) - minimum(t)\n",
    "t_min = 0.5/24.\n",
    "t_max = 10./24.\n",
    "qmi = t_min/t_tot\n",
    "qma = t_max/t_tot\n",
    "fmin = 1.0/t_tot\n",
    "fmax = 1.0/0.5\n",
    "nf = 1000\n",
    "df = (fmax - fmin)/nf\n",
    "nb = 1000;"
   ]
  },
  {
   "cell_type": "code",
   "execution_count": null,
   "metadata": {
    "collapsed": false
   },
   "outputs": [],
   "source": [
    "p, bper, bpow, depth, qtran, in1, in2, f0 = bls(n,t,flux,nf,fmin,df,nb,qmi,qma);"
   ]
  },
  {
   "cell_type": "code",
   "execution_count": null,
   "metadata": {
    "collapsed": false
   },
   "outputs": [],
   "source": [
    "t_fold = t % bper\n",
    "\n",
    "plot(t_fold, flux, \".\")  "
   ]
  },
  {
   "cell_type": "code",
   "execution_count": null,
   "metadata": {
    "collapsed": false
   },
   "outputs": [],
   "source": [
    "function model(t, arr)\n",
    "    rp, t0, dur, b = arr\n",
    "    return transit(t, rp, 1, t0, dur, b)\n",
    "end\n",
    "fit = curve_fit(model, t_fold, flux, [0.1, 0.5, 0.2, 0.0]);"
   ]
  },
  {
   "cell_type": "code",
   "execution_count": null,
   "metadata": {
    "collapsed": false
   },
   "outputs": [],
   "source": [
    "plot(t_fold, flux, \".\")\n",
    "plot(t_fold, model(t_fold, fit.param), \"r.\")\n",
    "G = 6.6741e-11\n",
    "T = fit.param[3]*60*60*24\n",
    "b = fit.param[4]\n",
    "P = bper*60*60*24\n",
    "dens = (3/(pi^2))*(P/(G*(T^3)))*((1-b^2)^1.5)\n",
    "println(fit.param)\n",
    "println(dens)"
   ]
  },
  {
   "cell_type": "markdown",
   "metadata": {},
   "source": [
    "Looks like...\n",
    "\n",
    "Rp/Rstar = 0.00951\n",
    "\n",
    "time of first contact = 0.510\n",
    "\n",
    "duration = 0.185\n",
    "\n",
    "b ~ 0\n",
    "\n",
    "dens = 0.427 g/cm^3\n",
    "\n",
    "But this all changes a lot depending on initial guesses - and I can see why. With so much noise, there's very little to constrain the exact location and depth of the transit. Really easy to get a small xi squared over a wide range of parameters. "
   ]
  },
  {
   "cell_type": "code",
   "execution_count": null,
   "metadata": {
    "collapsed": false
   },
   "outputs": [],
   "source": [
    "function quadratic(mu, ld_args)\n",
    "    a1, a2 = ld_args\n",
    "    A = 1./(1 - a1/2. - a2/3.)\n",
    "    return A*(1 - a1*(1-mu) - a2*((1-mu).^2))\n",
    "end\n",
    "\n",
    "function nonlinear(mu, ld_args)\n",
    "    a1, a2, a3, a4 = ld_args\n",
    "    A = 1./(1 - a1/3. - a2/2. - 3*a3/5. - 2*a4/3.)\n",
    "    return A*(1 - a1*(1-mu.^0.5) - a2*(1-mu) - a3*(1-mu.^1.5) - a4*(1-mu.^2))\n",
    "end\n",
    "\n",
    "m = linspace(0,1,1000)\n",
    "plot(m, quadratic(m, (0.0, 0.5)))"
   ]
  },
  {
   "cell_type": "code",
   "execution_count": null,
   "metadata": {
    "collapsed": false
   },
   "outputs": [],
   "source": [
    "plot(t, ld_transit(t, 0.1, 2.5, 25, 0.5, quadratic, (0.0,0.5)))\n",
    "plot(t, ld_transit(t, 0.1, 2.5, 25, 0.5, quadratic, (0.5,0.5)))\n",
    "plot(t, ld_transit(t, 0.1, 2.5, 25, 0.5, nonlinear, (0.5, 0.1, 0.1, -0.1)))\n",
    "plot(t, ld_transit(t, 0.1, 2.5, 25, 0.5, quadratic, (0.0,0.0)))"
   ]
  },
  {
   "cell_type": "code",
   "execution_count": null,
   "metadata": {
    "collapsed": true
   },
   "outputs": [],
   "source": []
  }
 ],
 "metadata": {
  "kernelspec": {
   "display_name": "Julia 0.5.0",
   "language": "julia",
   "name": "julia-0.5"
  },
  "language_info": {
   "file_extension": ".jl",
   "mimetype": "application/julia",
   "name": "julia",
   "version": "0.5.0"
  }
 },
 "nbformat": 4,
 "nbformat_minor": 0
}
