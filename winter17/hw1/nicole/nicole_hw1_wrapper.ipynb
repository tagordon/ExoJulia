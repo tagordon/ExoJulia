{
 "cells": [
  {
   "cell_type": "code",
   "execution_count": 2,
   "metadata": {
    "collapsed": false
   },
   "outputs": [
    {
     "data": {
      "text/plain": [
       "nicole_hw1_solver"
      ]
     },
     "execution_count": 2,
     "metadata": {},
     "output_type": "execute_result"
    }
   ],
   "source": [
    "include(\"nicole_hw1_solver.jl\")"
   ]
  },
  {
   "cell_type": "code",
   "execution_count": 3,
   "metadata": {
    "collapsed": false
   },
   "outputs": [],
   "source": [
    "using nicole_hw1_solver"
   ]
  },
  {
   "cell_type": "code",
   "execution_count": 4,
   "metadata": {
    "collapsed": false
   },
   "outputs": [],
   "source": [
    "# Testing that importing nicole_hw1_solver works\n",
    "#M   = pi/6\n",
    "#ecc = 0.6\n",
    "#E   = 2.\n",
    "\n",
    "#println(nicole_hw1_solver.next(E,M,ecc))"
   ]
  },
  {
   "cell_type": "code",
   "execution_count": 5,
   "metadata": {
    "collapsed": false
   },
   "outputs": [
    {
     "name": "stdout",
     "output_type": "stream",
     "text": [
      "4.592257154000169\n",
      "4.592257154000169\n",
      "Test case: These values are equal; the solver worked!\n",
      " \n"
     ]
    }
   ],
   "source": [
    "# Test my final E value by putting it into our original equation\n",
    "M   = 5.58505\n",
    "ecc = 1.0\n",
    "#E   = 2.\n",
    "\n",
    "E_final = nicole_hw1_solver.solver_loop(M,ecc)\n",
    "println(E_final)\n",
    "E_test = M + (ecc * sin(E_final))\n",
    "println(E_test)\n",
    "\n",
    "if (E_final) == (E_test)\n",
    "    println(\"Initial test case: These values are equal; the solver worked!\")\n",
    "    println(\" \")\n",
    "end"
   ]
  },
  {
   "cell_type": "code",
   "execution_count": 253,
   "metadata": {
    "collapsed": false
   },
   "outputs": [
    {
     "name": "stdout",
     "output_type": "stream",
     "text": [
      "Test eccentricity, e, range: [0.0,0.0204082,0.0408163,0.0612245,0.0816327,0.102041,0.122449,0.142857,0.163265,0.183673,0.204082,0.22449,0.244898,0.265306,0.285714,0.306122,0.326531,0.346939,0.367347,0.387755,0.408163,0.428571,0.44898,0.469388,0.489796,0.510204,0.530612,0.55102,0.571429,0.591837,0.612245,0.632653,0.653061,0.673469,0.693878,0.714286,0.734694,0.755102,0.77551,0.795918,0.816327,0.836735,0.857143,0.877551,0.897959,0.918367,0.938776,0.959184,0.979592,1.0]\n",
      "Test mean anomaly, M, range: [0.0,0.128228,0.256457,0.384685,0.512913,0.641141,0.76937,0.897598,1.02583,1.15405,1.28228,1.41051,1.53874,1.66697,1.7952,1.92342,2.05165,2.17988,2.30811,2.43634,2.56457,2.69279,2.82102,2.94925,3.07748,3.20571,3.33394,3.46216,3.59039,3.71862,3.84685,3.97508,4.1033,4.23153,4.35976,4.48799,4.61622,4.74445,4.87267,5.0009,5.12913,5.25736,5.38559,5.51382,5.64204,5.77027,5.8985,6.02673,6.15496,6.28319]\n"
     ]
    }
   ],
   "source": [
    "# Test to see if this works for 0 < e < 1 and 0 < M < 2pi\n",
    "#ecc = collect(0:0.1:1) #This is a neat tool, but not using here\n",
    "ecc = linspace(0.,1.,50)\n",
    "println(\"Test eccentricity, e, range: \",collect(ecc))\n",
    "\n",
    "M = linspace(0,(2*pi),50)\n",
    "println(\"Test mean anomaly, M, range: \",collect(M))\n"
   ]
  },
  {
   "cell_type": "code",
   "execution_count": 271,
   "metadata": {
    "collapsed": false
   },
   "outputs": [
    {
     "name": "stdout",
     "output_type": "stream",
     "text": [
      "0.0044\n"
     ]
    }
   ],
   "source": [
    "count = 0\n",
    "for i in eachindex(ecc)\n",
    "    for j in eachindex(M)\n",
    "        if j == length(M)\n",
    "            break\n",
    "        end\n",
    "        E_final = nicole_hw1_solver.solver_loop(M[j],ecc[i])\n",
    "        E_test = M[j] + (ecc[i] * sin(E_final))\n",
    "        if (round(E_final,12)) == (round(E_test,12))\n",
    "            #println(\"These values are equal; the solver worked!\")\n",
    "            #count += 1\n",
    "            #println(count)\n",
    "        else\n",
    "            #println(\"DIDN'T WORK.\")\n",
    "            #println(\"M: \",M[j])\n",
    "            #println(\"ecc: \",ecc[i])\n",
    "            #println(\"Final E: \",E_final)\n",
    "            #println(\"Test E: \",E_test)\n",
    "            count += 1\n",
    "            #println(count)\n",
    "        end\n",
    "    end\n",
    "end\n",
    "println(count/2500)"
   ]
  },
  {
   "cell_type": "code",
   "execution_count": 270,
   "metadata": {
    "collapsed": false
   },
   "outputs": [
    {
     "name": "stdout",
     "output_type": "stream",
     "text": [
      "0.1736"
     ]
    }
   ],
   "source": [
    "count = 0\n",
    "for i in eachindex(ecc)\n",
    "    for j in eachindex(M)\n",
    "        if j == length(M)\n",
    "            break\n",
    "        end\n",
    "        E_final = nicole_hw1_solver.solver_loop(M[j],ecc[i])\n",
    "        E_test = M[j] + (ecc[i] * sin(E_final))\n",
    "        if (E_final) == (E_test)\n",
    "            #println(\"These values are equal; the solver worked!\")\n",
    "            #count += 1\n",
    "            #println(count)\n",
    "        else\n",
    "            #println(\"DIDN'T WORK.\")\n",
    "            #println(\"M: \",M[j])\n",
    "            #println(\"ecc: \",ecc[i])\n",
    "            #println(\"Final E: \",E_final)\n",
    "            #println(\"Test E: \",E_test)\n",
    "            count += 1\n",
    "            #println(count)\n",
    "        end\n",
    "    end\n",
    "end\n",
    "print(count/2500)"
   ]
  },
  {
   "cell_type": "markdown",
   "metadata": {},
   "source": [
    "When truncated to 12 numbers after the decimal, all (except < 0.5%) M and e values result in a solution to Kepler's equations. Also, excluding M = 0.0 and e = 1.0. Otherwise, ~ 20% of the M and e pairs break (including e = 1.0 and M = 6.28319)."
   ]
  },
  {
   "cell_type": "code",
   "execution_count": null,
   "metadata": {
    "collapsed": true
   },
   "outputs": [],
   "source": []
  }
 ],
 "metadata": {
  "anaconda-cloud": {},
  "kernelspec": {
   "display_name": "Julia 0.5.0",
   "language": "julia",
   "name": "julia-0.5"
  },
  "language_info": {
   "file_extension": ".jl",
   "mimetype": "application/julia",
   "name": "julia",
   "version": "0.5.0"
  }
 },
 "nbformat": 4,
 "nbformat_minor": 0
}
