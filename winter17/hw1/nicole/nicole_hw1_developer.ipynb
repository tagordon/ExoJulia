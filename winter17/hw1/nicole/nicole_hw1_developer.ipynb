{
 "cells": [
  {
   "cell_type": "markdown",
   "metadata": {},
   "source": [
    "This Julia script will solve Kepler's equations which will be implemented in a wrapper code which then runs the solver and shows that the solver gives the correct solutions."
   ]
  },
  {
   "cell_type": "code",
   "execution_count": 1,
   "metadata": {
    "collapsed": false
   },
   "outputs": [
    {
     "data": {
      "text/plain": [
       "nicole_hw1_solver"
      ]
     },
     "execution_count": 1,
     "metadata": {},
     "output_type": "execute_result"
    }
   ],
   "source": [
    "module nicole_hw1_solver \n",
    "\n",
    "# Solving kepler's equations\n",
    "# E   = eccentric anomaly\n",
    "# ecc = eccentricity \n",
    "# M   = mean anomaly\n",
    "\n",
    "# Testing stuff\n",
    "#M   = pi/24\n",
    "#ecc = 0.1\n",
    "\n",
    "# Functions\n",
    "init(M) = M\n",
    "next(E,M,ecc) = M + (ecc * sin(init(M)))\n",
    "g(E,M,ecc)    = E - M - (ecc * sin(E))  # where g_E = 0 \n",
    "dg(E,ecc)   = 1 - (ecc * cos(E))\n",
    "\n",
    "function solver_loop(M,ecc)\n",
    "    E_init = init(M)\n",
    "    E_next = next(E_init,M,ecc)\n",
    "    i = 0\n",
    "    while i <= 5\n",
    "        E_prev = E_next\n",
    "        E_next = E_prev - ( g(E_next,M,ecc) / (dg(E_next,ecc)) )\n",
    "        #println(E_next)\n",
    "        i += 1\n",
    "    end\n",
    "    E_final = E_next\n",
    "\n",
    "end\n",
    "    \n",
    "end\n"
   ]
  },
  {
   "cell_type": "code",
   "execution_count": null,
   "metadata": {
    "collapsed": true
   },
   "outputs": [],
   "source": []
  }
 ],
 "metadata": {
  "anaconda-cloud": {},
  "kernelspec": {
   "display_name": "Julia 0.5.0",
   "language": "julia",
   "name": "julia-0.5"
  },
  "language_info": {
   "file_extension": ".jl",
   "mimetype": "application/julia",
   "name": "julia",
   "version": "0.5.0"
  }
 },
 "nbformat": 4,
 "nbformat_minor": 0
}
